{
 "cells": [
  {
   "cell_type": "markdown",
   "metadata": {},
   "source": [
    "1. 데이터 로딩\n",
    "\n",
    "저장된 CSV 파일에서 학습 및 테스트 데이터셋을 로드하는 것입니다. `pd.read_csv()` 함수는 CSV 파일을 읽고 Pandas DataFrame `train_prod_df` 및 `test_prod_df`로 로드합니다."
   ]
  },
  {
   "cell_type": "code",
   "execution_count": null,
   "metadata": {},
   "outputs": [],
   "source": [
    "# 1. Data Loading\n",
    "train_prod_df = pd.read_csv('data/train.csv')\n",
    "test_prod_df = pd.read_csv('data/test.csv')"
   ]
  },
  {
   "cell_type": "markdown",
   "metadata": {},
   "source": [
    "2. 데이터 전처리\n",
    "\n",
    "\n",
    "전처리 단계에는 여러 하위 단계가 포함됩니다.\n",
    "\n",
    "쉼표 제거 및 데이터 타입 변경\n",
    "test_prod_df 데이터프레임의 'employee1' 및 'employee2' 열은 문자열 타입에서 실수 타입으로 변환됩니다. 변환 전에 값에 포함된 쉼표를 제거합니다. train_prod_df 데이터프레임의 경우, 'employee1'과 'employee2'는 실수 타입으로 직접 변환됩니다. 추가로, train_prod_df의 'OC' 열에 있는 모든 공백이 제거됩니다."
   ]
  },
  {
   "cell_type": "code",
   "execution_count": null,
   "metadata": {},
   "outputs": [],
   "source": [
    "# 2. Data Preprocessing\n",
    "# - Remove commas and change data types\n",
    "test_prod_df.employee1 = test_prod_df.employee1.astype('str').str.replace(\",\", \"\").astype('float')\n",
    "test_prod_df.employee2 = test_prod_df.employee2.astype('str').str.replace(\",\", \"\").astype('float')\n",
    "train_prod_df.employee1 = train_prod_df.employee1.astype('float')\n",
    "train_prod_df.employee2 = train_prod_df.employee2.astype('float')\n",
    "train_prod_df.OC = train_prod_df.OC.astype('str').str.replace(\" \", \"\")"
   ]
  },
  {
   "cell_type": "markdown",
   "metadata": {},
   "source": [
    "학습 및 테스트 데이터셋 결합\n",
    "train_prod_df 및 test_prod_df 데이터프레임이 append() 함수를 사용하여 단일 데이터프레임 train_test_prod에 결합됩니다. 이는 학습 및 테스트 데이터셋에 동시에 동일한 전처리 단계를 수행하기 위함입니다."
   ]
  },
  {
   "cell_type": "code",
   "execution_count": null,
   "metadata": {},
   "outputs": [],
   "source": [
    "# - Combine train and test datasets\n",
    "train_test_prod = train_prod_df.append(test_prod_df)"
   ]
  },
  {
   "cell_type": "markdown",
   "metadata": {},
   "source": [
    "결측값 처리\n",
    "데이터셋의 결측값은 다음과 같은 방법으로 처리됩니다:\n",
    "\n",
    "특정 병원의 잘못된 정보 수정: 'inst_id'가 430 및 413인 병원의 'instkind' 및 'bedCount'가 수정됩니다.\n",
    "\n",
    "\n",
    "문자열 속성의 결측값을 'Not_sure'로 대체: 문자열 데이터 타입의 열에서 결측값은 'Not_sure' 문자열로 대체됩니다.\n",
    "\n",
    "\n",
    "수치형 속성의 결측값을 -999로 대체: 수치형 데이터 타입의 열에서 결측값은 값 -999로 대체됩니다.\n",
    "\n",
    "\n",
    "이는 결측된 데이터의 따로 구분해 영향을 최대한 억제하는 효과가 있습니다."
   ]
  },
  {
   "cell_type": "code",
   "execution_count": null,
   "metadata": {},
   "outputs": [],
   "source": [
    "# - Handle missing values\n",
    "#   Correct the wrong information of specific hospitals\n",
    "train_test_prod.loc[train_test_prod.inst_id == 430, ['instkind']] = 'dental_clinic'\n",
    "train_test_prod.loc[train_test_prod.inst_id == 430, ['bedCount']] = 0\n",
    "train_test_prod.loc[train_test_prod.inst_id == 413, ['bedCount']] = -999\n",
    "\n",
    "#   Replace missing values in string attributes with 'Not_sure'\n",
    "factor_columns = train_test_prod.select_dtypes(include=['object']).columns\n",
    "train_test_prod[factor_columns] = train_test_prod[factor_columns].fillna('Not_sure')\n",
    "\n",
    "#   Replace missing values in numeric attributes with -999\n",
    "numeric_columns = train_test_prod.columns.difference(factor_columns)\n",
    "train_test_prod[numeric_columns] = train_test_prod[numeric_columns].fillna(-999)"
   ]
  },
  {
   "cell_type": "markdown",
   "metadata": {},
   "source": [
    "범주형 데이터를 수치형 형식으로 변환\n",
    "\n",
    "\n",
    "데이터프레임의 범주형 데이터는 scikit-learn의 LabelEncoder 클래스를 사용하여 수치형 형식으로 변환됩니다. LabelEncoder는 범주형 열의 각 카테고리에 고유한 정수를 할당합니다."
   ]
  },
  {
   "cell_type": "code",
   "execution_count": null,
   "metadata": {},
   "outputs": [],
   "source": [
    "#   Convert categorical data to numerical format\n",
    "fac_le = LabelEncoder()\n",
    "train_test_prod[factor_columns] = train_test_prod[factor_columns].apply(lambda x: fac_le.fit_transform(x))"
   ]
  },
  {
   "cell_type": "markdown",
   "metadata": {},
   "source": [
    "학습 및 테스트 데이터 분할\n",
    "\n",
    "\n",
    "결합된 데이터프레임에서 전처리가 완료되면, 학습 및 테스트 데이터는 'OC' 열의 값에 기반하여 두 개의 데이터프레임, train_prod 및 test_prod,로 다시 분할됩니다. 그런 다음 train_prod 데이터프레임의 'OC' 열은 1 기반 인덱싱에서 0 기반 인덱싱으로 값을 변환하기 위해 1씩 감소됩니다."
   ]
  },
  {
   "cell_type": "code",
   "execution_count": null,
   "metadata": {},
   "outputs": [],
   "source": [
    "# - Split the data back into train and test\n",
    "train_prod = train_test_prod[train_test_prod.OC != 0]\n",
    "test_prod = train_test_prod[train_test_prod.OC == 0]\n",
    "train_prod['OC'] = train_prod['OC'] - 1"
   ]
  },
  {
   "cell_type": "markdown",
   "metadata": {},
   "source": [
    "모델 학습을 위한 데이터 준비\n",
    "\n",
    "마지막으로, train_prod 및 test_prod 데이터프레임은 특징 변수(X)와 목표 변수(Y)로 분할됩니다. \n",
    "\n",
    "'OC' 열은 목표 변수이고, 나머지 모든 열은 특징 변수입니다. sub_id 변수도 생성되어 test_prod 데이터프레임에서 'inst_id' 열을 저장하며, 제출 파일에 사용됩니다."
   ]
  },
  {
   "cell_type": "code",
   "execution_count": null,
   "metadata": {},
   "outputs": [],
   "source": [
    "sub_id = test_prod.inst_id  # ID for submission\n",
    "dep = 'OC'\n",
    "indep = train_prod.columns.difference([dep])\n",
    "train_prod_X = train_prod[indep]\n",
    "train_prod_Y = train_prod[dep]\n",
    "test_prod_X = test_prod[indep]"
   ]
  }
 ],
 "metadata": {
  "language_info": {
   "name": "python"
  },
  "orig_nbformat": 4
 },
 "nbformat": 4,
 "nbformat_minor": 2
}
