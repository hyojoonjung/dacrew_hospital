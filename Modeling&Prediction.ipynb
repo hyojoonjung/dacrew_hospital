{
  "cells": [
    {
      "cell_type": "markdown",
      "source": [
        "안녕하세요! 데이크루 6기 ~팀입니다.\n",
        "\n",
        "'병원 개/폐업 분류 예측 경진대회'를 기반으로 프로젝트를 진행하고 있습니다.\n",
        "\n",
        "본 포스팅은 데이콘 서포터즈 \"데이크루\" 6기 활동으로 작성되었음을 알립니다.\n",
        "\n",
        "Colab 환경으로 개발을 진행하였습니다."
      ],
      "metadata": {
        "id": "povT3YvRGLHA"
      }
    },
    {
      "cell_type": "markdown",
      "source": [
        "---"
      ],
      "metadata": {
        "id": "Y9-9uYz5Gtl9"
      }
    },
    {
      "cell_type": "markdown",
      "source": [
        "## STEP3. 모델링"
      ],
      "metadata": {
        "id": "cF_OBQBCGyai"
      }
    },
    {
      "cell_type": "markdown",
      "source": [
        "저희 팀은 모델링에 앙상블 기법을 사용하였습니다.\n",
        "\n",
        "**앙상블(Ensemble) 기법**이란?\n",
        "- 여러 개의 분류기를 생성하고 그 예측을 결합함으로써 보다 정확한 예측을 도출하는 기법\n",
        "\n",
        "기존의 하나의 모델만을 사용하는 방법 대신, 약한 모델을 여러 개 사용하는 방법을 통해 성능을 향상시킬 수 있습니다.\n",
        "\n",
        "앙상블 기법은 크게 보팅(Voting), 배깅(Bagging), 부스팅(Boosting) 세 개의 유형으로 나눌 수 있습니다."
      ],
      "metadata": {
        "id": "RPt4fUfaHH9D"
      }
    },
    {
      "cell_type": "markdown",
      "source": [
        "보팅(Voting)은 서로 다른 알고리즘을 가진 분류기 중 투표(Vote)를 통해 최종 예측 결과를 결정하는 방식입니다.\n",
        "- 하드 보팅(Hard Voting) : 각각의 분류기의 결과값 중 가장 많이 나온 값을 선정\n",
        "- 소프트 보팅(Soft Voting) : 분류기의 확률의 평균을 구하고, 가장 값이 높은 것을 선정"
      ],
      "metadata": {
        "id": "qyaM3IDoID1g"
      }
    },
    {
      "cell_type": "markdown",
      "source": [
        "배깅(Bagging)은 Bootstrap aggregating의 줄임말로 여러 개의 bootstrap 자료를 모델링한 후 결합하여 최종 예측 모형을 산출하는 방식입니다. 이때, 자료는 기존의 Data에서 복원 추출 방식을 통해 생성합니다."
      ],
      "metadata": {
        "id": "KVgow3J8ItRn"
      }
    },
    {
      "cell_type": "markdown",
      "source": [
        "부스팅(Boosting)은 오분류된 개체들에 집중해 새로운 분류 규칙을 만드는 단계를 반복하는 방식입니다. 보팅은 여러 개의 분류기 중 선택하는 방식이라면 부스팅은 결합하는 방식이라고 볼 수 있습니다."
      ],
      "metadata": {
        "id": "EYoRrAX6JISD"
      }
    },
    {
      "cell_type": "markdown",
      "source": [
        "#### 필요한 Library 불러오기"
      ],
      "metadata": {
        "id": "7JvbnxzpJj-B"
      }
    },
    {
      "cell_type": "code",
      "source": [
        "from google.colab import drive\n",
        "drive.mount('/content/drive')"
      ],
      "metadata": {
        "colab": {
          "base_uri": "https://localhost:8080/"
        },
        "id": "v4HntVKEIVbF",
        "outputId": "95b0f9b5-fd93-4eae-d434-73499550a9af"
      },
      "execution_count": 1,
      "outputs": [
        {
          "output_type": "stream",
          "name": "stdout",
          "text": [
            "Mounted at /content/drive\n"
          ]
        }
      ]
    },
    {
      "cell_type": "code",
      "source": [
        "# Required Libraries\n",
        "import numpy as np\n",
        "import pandas as pd\n",
        "from sklearn.preprocessing import LabelEncoder\n",
        "from sklearn.ensemble import RandomForestClassifier, GradientBoostingClassifier\n",
        "import xgboost as xgb\n",
        "import seaborn as sns\n",
        "import matplotlib.pyplot as plt\n",
        "from sklearn.metrics import f1_score"
      ],
      "metadata": {
        "id": "Ax5sghkhGbj5"
      },
      "execution_count": 14,
      "outputs": []
    },
    {
      "cell_type": "markdown",
      "source": [
        "저희는 앙상블 기법에 Random Forest, Gradient Boosting, Xgboost 세 개의 모델을 사용했습니다.\n",
        "\n",
        "*모든 모델링에는 똑같은 결과 재현을 보장하기 위해 np.random.seed(100)을 사용했습니다*"
      ],
      "metadata": {
        "id": "er9iujaPLA8O"
      }
    },
    {
      "cell_type": "markdown",
      "source": [
        "#### Random Forest; RF"
      ],
      "metadata": {
        "id": "unYmuZ-ELWM5"
      }
    },
    {
      "cell_type": "markdown",
      "source": [
        "**Random Forest**는 오버피팅을 방지하기 위해, 최적의 기준 변수를 선택하는 breiman(2002)이 제안한 머신러닝 기법으로, 여러 개의 Decision Tree를 활용한 배깅 방식의 알고리즘입니다."
      ],
      "metadata": {
        "id": "KO56vim6MCw4"
      }
    },
    {
      "cell_type": "markdown",
      "source": [
        "Ramdom Forest는 문제 유형에 따라 회귀 모델과 분류 모델로 나뉘는데 병원 개/폐업 예측 문제의 경우에는 0과 1로 나누는 분류 문제이므로 RandomForestClassifier를 사용하였습니다."
      ],
      "metadata": {
        "id": "akkgM4PsMnlK"
      }
    },
    {
      "cell_type": "code",
      "source": [
        "# - Random Forest Model\n",
        "np.random.seed(100)\n",
        "RF_prod = RandomForestClassifier(n_estimators=10)\n",
        "RF_prod_model = RF_prod.fit(train_prod_X, train_prod_Y)\n",
        "RF_prod_prediction = RF_prod.predict_proba(test_prod_X)[:,1]"
      ],
      "metadata": {
        "id": "nce7GOrWLvm6"
      },
      "execution_count": 17,
      "outputs": []
    },
    {
      "cell_type": "markdown",
      "source": [
        "#### Gradient Boosting Machine; GBM"
      ],
      "metadata": {
        "id": "j9t5uHtLM8Ll"
      }
    },
    {
      "cell_type": "markdown",
      "source": [
        "GBM은 부스팅 기법을 사용한 알고리즘으로 잔차(Residual)를 이용하여 이전 모형의 약점을 보완하는 새로운 모형을 순차적으로 적합하며 새로 얻은 모형을 사용하는 방식입니다."
      ],
      "metadata": {
        "id": "j_QrFWrwNfOE"
      }
    },
    {
      "cell_type": "code",
      "source": [
        "# - GBM Model\n",
        "np.random.seed(100)\n",
        "GBM_prod = GradientBoostingClassifier(n_estimators=10)\n",
        "GBM_prod_model = GBM_prod.fit(train_prod_X, train_prod_Y)\n",
        "GBM_prod_prediction = GBM_prod.predict_proba(test_prod_X)[:,1]"
      ],
      "metadata": {
        "id": "YX4CSDG_ZXI2"
      },
      "execution_count": 18,
      "outputs": []
    },
    {
      "cell_type": "markdown",
      "source": [
        "#### XGBoost; XGB"
      ],
      "metadata": {
        "id": "vA5Gn4RWZYyV"
      }
    },
    {
      "cell_type": "markdown",
      "source": [
        "XGBoost는 Extreme Gradient Boosting의 약자로, 부스팅 기법을 사용한 알고리즘입니다. Gradient Tree Boosting에 과적합 방지를 위한 파라미터가 추가되었고, Regression, Classification 모두 지원하며 성능과 자원 효율이 좋아 많이 사용되는 알고리즘입니다."
      ],
      "metadata": {
        "id": "QFyf7eCsZdXO"
      }
    },
    {
      "cell_type": "markdown",
      "source": [
        "[XGBoost의 파라미터]\n",
        "- 일반 파라미터\n",
        "\n",
        "> booster[default=gbtree] : 부스터 구조 결정  \n",
        "> n_jobs : XGBsoot를 실행하는 데 사용되는\n",
        "병렬 스레드 수  \n",
        "> verbosity[default=1] : 유효한 값은 0 (무음), 1 (경고), 2 (정보), 3 (디버그)\n",
        "\n",
        "- 부스터 파라미터\n",
        "\n",
        "\n",
        "> learning_rate[default=0.3]  \n",
        "> n_estimators[default=100] : 생성한 weak learner의 수  \n",
        "> max_depth[default=6] : 트리의 최대 깊이\n",
        "\n",
        "- 학습 과정 파라미터\n",
        "\n",
        "\n",
        "> objective[default:reg=squarederror]  \n",
        "> eval_metric : 모델의 평가 함수를 조정하는 함수\n",
        "\n",
        "\n",
        "\n"
      ],
      "metadata": {
        "id": "hZLpY3zhaJMM"
      }
    },
    {
      "cell_type": "code",
      "source": [
        "# - XGBOOST Model\n",
        "def eval_error(preds, dtrain):\n",
        "    \"\"\"Custom evaluation function for XGBoost.\"\"\"\n",
        "    labels = dtrain.get_label()\n",
        "    preds = (preds > 0.5).astype('float')\n",
        "    return \"f1_score\", f1_score(labels, preds)\n",
        "\n",
        "dtrain_prod = xgb.DMatrix(train_prod_X, label=train_prod_Y)\n",
        "dtest_prod = xgb.DMatrix(test_prod_X)\n",
        "\n",
        "param = {\n",
        "    'objective': 'binary:logistic',\n",
        "    'max_depth': 6,\n",
        "    'eta': 0.3,\n",
        "    'colsample_bytree': 1,\n",
        "    'subsample': 1,\n",
        "    'silent': 0\n",
        "}\n",
        "\n",
        "np.random.seed(100)\n",
        "xgb_model = xgb.train(param,\n",
        "                      dtrain_prod,\n",
        "                      num_boost_round=2,\n",
        "                      feval=eval_error)\n",
        "\n",
        "XGB_prediction = xgb_model.predict(dtest_prod)"
      ],
      "metadata": {
        "id": "sFPSY-cOHGFG",
        "colab": {
          "base_uri": "https://localhost:8080/"
        },
        "outputId": "811a4e55-96e2-4d13-9e98-59651e3a3b5c"
      },
      "execution_count": 19,
      "outputs": [
        {
          "output_type": "stream",
          "name": "stdout",
          "text": [
            "[06:32:14] WARNING: ../src/learner.cc:767: \n",
            "Parameters: { \"silent\" } are not used.\n",
            "\n"
          ]
        },
        {
          "output_type": "stream",
          "name": "stderr",
          "text": [
            "/usr/local/lib/python3.10/dist-packages/xgboost/training.py:39: UserWarning: `feval` is deprecated, use `custom_metric` instead.  They have different behavior when custom objective is also used.See https://xgboost.readthedocs.io/en/latest/tutorials/custom_metric_obj.html for details on the `custom_metric`.\n",
            "  warnings.warn(\n"
          ]
        }
      ]
    },
    {
      "cell_type": "markdown",
      "source": [
        "**변수중요도**"
      ],
      "metadata": {
        "id": "o2Dg5iPuD77a"
      }
    },
    {
      "cell_type": "markdown",
      "source": [
        "XGBoost 모델의 경우의 변수 중요도는 다음과 같습니다.  \n",
        "\n",
        "\n",
        "**변수 중요도**란?\n",
        "- 해당 변수가 상대적으로 얼마만큼 종속변수에 영향을 주는가에 대한 척도"
      ],
      "metadata": {
        "id": "2ekhlIJnb5kc"
      }
    },
    {
      "cell_type": "code",
      "source": [
        "# - Visualize Feature Importance\n",
        "xgb_Imp = pd.DataFrame({\n",
        "    'Features': list(xgb_model.get_score().keys()),\n",
        "    'Importance': list(xgb_model.get_score().values())\n",
        "}).sort_values(['Importance'])\n",
        "sns.barplot(x=xgb_Imp.Importance, y=xgb_Imp.Features)\n",
        "plt.show()"
      ],
      "metadata": {
        "id": "AapBpbILb6HC",
        "colab": {
          "base_uri": "https://localhost:8080/",
          "height": 449
        },
        "outputId": "ba81b8a8-dc62-49ee-dc81-1405c13005f4"
      },
      "execution_count": 20,
      "outputs": [
        {
          "output_type": "display_data",
          "data": {
            "text/plain": [
              "<Figure size 640x480 with 1 Axes>"
            ],
            "image/png": "[encoded data removed]"
          },
          "metadata": {}
        }
      ]
    },
    {
      "cell_type": "markdown",
      "source": [
        "---"
      ],
      "metadata": {
        "id": "t4VYKX7_Eewr"
      }
    },
    {
      "cell_type": "markdown",
      "source": [
        "### STEP4. Prediction"
      ],
      "metadata": {
        "id": "s01TybprEeyF"
      }
    },
    {
      "cell_type": "markdown",
      "source": [
        "저희팀은 앙상블기법 중 Soft Voting을 사용했습니다.  \n",
        "이를 위해, 보팅 모델 별 예측 확률 값을 구한 뒤 평균을 내고, 이 값이 threshold(임계값) 보다 높으면 1 아니면 0으로 결과값을 선정합니다.  \n",
        "이때, 0부터 1까지 threshold 바꿔가면서 f1 score 측정해서 f1score가 가장 높게 나오는 threshold을 선정하였습니다."
      ],
      "metadata": {
        "id": "bAWXdDlhFXux"
      }
    },
    {
      "cell_type": "markdown",
      "source": [
        "**F1 score**\n",
        "- 분류 모델의 대표적인 평가지표로 이 자료처럼 타겟변수가 불균형한 모델에서는 Accuracy는 왜곡된 결론을 가져다 주기에 정밀도와 재현율을 고려한 F1 score를 사용한다.\n",
        "\n",
        "\n",
        "\n",
        "> 정밀도(Precision) : 분류 모델이 Positive로 판정한 것 중, 실제로 Positive인 샘플의 비율\n",
        "\n",
        "\n",
        "> 재현율(Recall) : 실제 Positive 샘플 중 분류 모델이 Positive로 판정한 비율\n",
        "\n",
        "\n",
        "\n"
      ],
      "metadata": {
        "id": "7mkBwu_-HQ_M"
      }
    },
    {
      "cell_type": "code",
      "source": [
        "# 4. Ensemble\n",
        "ensemble = pd.DataFrame({\n",
        "    'inst_id': sub_id,\n",
        "    'XGB': XGB_prediction,\n",
        "    'GBM': GBM_prod_prediction,\n",
        "    'RF': RF_prod_prediction\n",
        "})\n",
        "\n",
        "# Find the optimal threshold for the ensemble\n",
        "def best_threshold_f1(preds, labels):\n",
        "    \"\"\"Find the threshold value that provides the best F1 score.\"\"\"\n",
        "    thresholds = np.linspace(0, 1, 100)\n",
        "    f1_scores = [f1_score(labels, (preds > thr).astype('float')) for thr in thresholds]\n",
        "    return thresholds[np.argmax(f1_scores)]\n",
        "\n",
        "ensemble_train = pd.DataFrame({\n",
        "    'XGB': xgb_model.predict(dtrain_prod),\n",
        "    'GBM': GBM_prod.predict_proba(train_prod_X)[:, 1],\n",
        "    'RF': RF_prod.predict_proba(train_prod_X)[:, 1],\n",
        "    'True': train_prod_Y\n",
        "})\n",
        "ensemble_train['ens'] = (ensemble_train['XGB'] + ensemble_train['GBM'] + ensemble_train['RF']) / 3\n",
        "best_thr_ensemble = best_threshold_f1(ensemble_train['ens'], train_prod_Y)\n",
        "\n",
        "ensemble['ens'] = (ensemble['XGB'] + ensemble['GBM'] + ensemble['RF']) / 3\n",
        "ensemble['OC'] = (ensemble['ens'] > best_thr_ensemble).astype('int')\n",
        "\n",
        "# 5. Submitting Results\n",
        "ensemble[['inst_id', 'OC']].to_csv('ensemble_submission.csv', index=False)\n"
      ],
      "metadata": {
        "id": "JBaAcYS5EfEZ"
      },
      "execution_count": 22,
      "outputs": []
    }
  ],
  "metadata": {
    "kernelspec": {
      "display_name": "hospital",
      "language": "python",
      "name": "python3"
    },
    "language_info": {
      "codemirror_mode": {
        "name": "ipython",
        "version": 3
      },
      "file_extension": ".py",
      "mimetype": "text/x-python",
      "name": "python",
      "nbconvert_exporter": "python",
      "pygments_lexer": "ipython3",
      "version": "3.11.4"
    },
    "orig_nbformat": 4,
    "colab": {
      "provenance": []
    }
  },
  "nbformat": 4,
  "nbformat_minor": 0
}